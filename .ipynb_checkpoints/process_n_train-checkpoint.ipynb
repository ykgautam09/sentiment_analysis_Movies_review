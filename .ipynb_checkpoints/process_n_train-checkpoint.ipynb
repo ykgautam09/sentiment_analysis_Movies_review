{
 "cells": [
  {
   "cell_type": "code",
   "execution_count": 1,
   "metadata": {
    "_cell_guid": "b1076dfc-b9ad-4769-8c92-a6c4dae69d19",
    "_uuid": "8f2839f25d086af736a60e9eeb907d3b93b6e0e5"
   },
   "outputs": [],
   "source": [
    "import numpy as np \n",
    "import pandas as pd \n",
    "from bs4 import BeautifulSoup\n",
    "import nltk\n",
    "from nltk.stem import PorterStemmer\n",
    "from sklearn.feature_extraction.text import TfidfVectorizer\n",
    "from sklearn.ensemble import RandomForestClassifier\n",
    "import re\n",
    "import pickle"
   ]
  },
  {
   "cell_type": "code",
   "execution_count": 11,
   "metadata": {},
   "outputs": [],
   "source": [
    "raw_data=pd.read_csv(\"./IMDB Dataset.csv\")\n",
    "raw_data=raw_data.drop_duplicates()\n",
    "raw_data.isna"
   ]
  },
  {
   "cell_type": "code",
   "execution_count": 6,
   "metadata": {
    "scrolled": true
   },
   "outputs": [
    {
     "name": "stderr",
     "output_type": "stream",
     "text": [
      "<ipython-input-6-5fffa0737a32>:1: SettingWithCopyWarning: \n",
      "A value is trying to be set on a copy of a slice from a DataFrame.\n",
      "Try using .loc[row_indexer,col_indexer] = value instead\n",
      "\n",
      "See the caveats in the documentation: https://pandas.pydata.org/pandas-docs/stable/user_guide/indexing.html#returning-a-view-versus-a-copy\n",
      "  raw_data['sentiment']=pd.get_dummies(raw_data['sentiment'])['positive'].values\n"
     ]
    }
   ],
   "source": [
    "raw_data['sentiment']=pd.get_dummies(raw_data['sentiment'])['positive'].values\n",
    "raw_data"
   ]
  },
  {
   "cell_type": "code",
   "execution_count": 8,
   "metadata": {},
   "outputs": [],
   "source": [
    "stemmer=PorterStemmer()\n",
    "vectorizer=TfidfVectorizer(max_features=5000,analyzer='word', encoding='utf-8')"
   ]
  },
  {
   "cell_type": "code",
   "execution_count": 9,
   "metadata": {},
   "outputs": [],
   "source": [
    "stopwords=set(nltk.corpus.stopwords.words('english'))\n",
    "c=1\n",
    "cleaned_text=[]\n",
    "c+=1\n",
    "for i in raw_data['review'].values.tolist():\n",
    "    i=BeautifulSoup(i,'lxml').text\n",
    "    i=re.sub('[^a-zA-z]',' ',i).lower()\n",
    "    words=[]\n",
    "    for j in i.split():\n",
    "        if j not in stopwords:\n",
    "            words.append(stemmer.stem(j))\n",
    "    cleaned_text.append(' '.join(words))"
   ]
  },
  {
   "cell_type": "code",
   "execution_count": 10,
   "metadata": {},
   "outputs": [],
   "source": [
    "vectors=vectorizer.fit_transform(cleaned_text)\n",
    "\n",
    "with open('vectorizer.pickle','wb') as f:\n",
    "    pickle.dump(vectorizer,f,protocol=2)"
   ]
  },
  {
   "cell_type": "code",
   "execution_count": 16,
   "metadata": {},
   "outputs": [
    {
     "data": {
      "text/plain": [
       "RandomForestClassifier()"
      ]
     },
     "execution_count": 16,
     "metadata": {},
     "output_type": "execute_result"
    }
   ],
   "source": [
    "model=RandomForestClassifier()\n",
    "model.fit(vectors,raw_data['sentiment'])\n"
   ]
  },
  {
   "cell_type": "code",
   "execution_count": 19,
   "metadata": {},
   "outputs": [],
   "source": [
    "def clean_text(review):\n",
    "    review=BeautifulSoup(review,'lxml').text\n",
    "    review=re.sub('[^a-zA-z]',' ',review).lower()\n",
    "    words=[]\n",
    "    for j in review.split():\n",
    "        if j not in stopwords:\n",
    "            words.append(stemmer.stem(j))\n",
    "    return ' '.join(words)\n",
    "\n",
    "def predict_class(review):\n",
    "    review=vectorizer.transform([clean_text(review)])\n",
    "    result=model.predict(review)[0]\n",
    "    return result"
   ]
  },
  {
   "cell_type": "code",
   "execution_count": null,
   "metadata": {},
   "outputs": [],
   "source": [
    "predict_class('terriblly good')\n"
   ]
  },
  {
   "cell_type": "code",
   "execution_count": 27,
   "metadata": {},
   "outputs": [
    {
     "data": {
      "text/plain": [
       "1"
      ]
     },
     "execution_count": 27,
     "metadata": {},
     "output_type": "execute_result"
    }
   ],
   "source": [
    "with open('model.pickle','wb') as f:\n",
    "    pickle.dump(model,f,protocol=2)"
   ]
  }
 ],
 "metadata": {
  "kernelspec": {
   "display_name": "MLAI",
   "language": "python",
   "name": "mlai"
  },
  "language_info": {
   "codemirror_mode": {
    "name": "ipython",
    "version": 3
   },
   "file_extension": ".py",
   "mimetype": "text/x-python",
   "name": "python",
   "nbconvert_exporter": "python",
   "pygments_lexer": "ipython3",
   "version": "3.8.5"
  }
 },
 "nbformat": 4,
 "nbformat_minor": 4
}
